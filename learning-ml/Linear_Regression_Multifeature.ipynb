{
 "cells": [
  {
   "cell_type": "markdown",
   "id": "0377ad86",
   "metadata": {},
   "source": [
    "\n",
    "# 📘 Множественная линейная регрессия в Jupyter: pandas + scikit-learn\n",
    "\n",
    "Этот ноутбук — пошаговый шаблон:\n",
    "1. Загружаем CSV в `pandas`\n",
    "2. Делим признаки/цель\n",
    "3. Строим пайплайн препроцессинга:\n",
    "   - числовые: `median impute` + `StandardScaler`\n",
    "   - категориальные: `most_frequent impute` + `OneHotEncoder`\n",
    "4. Обучаем `LinearRegression`\n",
    "5. Оцениваем метрики: R², MAE, RMSE\n",
    "6. Смотрим важность признаков (коэффициенты)\n",
    "7. Сохраняем модель на диск (`joblib`)\n",
    "\n",
    "> ⚙️ Перед запуском укажи путь к своему CSV и имя колонки-цели в блоке **Конфигурация**.\n"
   ]
  },
  {
   "cell_type": "code",
   "execution_count": null,
   "id": "89a84b7a",
   "metadata": {},
   "outputs": [],
   "source": [
    "\n",
    "# (Необязательно) Установка библиотек, если чего-то не хватает.\n",
    "# В обычной среде Anaconda это всё уже стоит.\n",
    "# !pip install --upgrade pip\n",
    "# !pip install pandas scikit-learn matplotlib joblib\n"
   ]
  },
  {
   "cell_type": "code",
   "execution_count": 1,
   "id": "166b905e",
   "metadata": {},
   "outputs": [],
   "source": [
    "\n",
    "import warnings\n",
    "warnings.filterwarnings(\"ignore\")\n",
    "\n",
    "import numpy as np\n",
    "import pandas as pd\n",
    "import matplotlib.pyplot as plt\n",
    "\n",
    "from sklearn.model_selection import train_test_split, cross_val_score, KFold\n",
    "from sklearn.compose import ColumnTransformer\n",
    "from sklearn.pipeline import Pipeline\n",
    "from sklearn.impute import SimpleImputer\n",
    "from sklearn.preprocessing import OneHotEncoder, StandardScaler\n",
    "from sklearn.linear_model import LinearRegression\n",
    "from sklearn.metrics import r2_score, mean_absolute_error, mean_squared_error\n",
    "import joblib\n",
    "\n",
    "RANDOM_STATE = 42\n"
   ]
  },
  {
   "cell_type": "markdown",
   "id": "6b481719",
   "metadata": {},
   "source": [
    "\n",
    "## 🔧 Конфигурация\n",
    "Заполни переменные ниже:\n",
    "- `CSV_PATH`: путь к данным\n",
    "- `TARGET_COLUMN`: имя колонки с целевой переменной (число)\n",
    "- `DROP_COLUMNS`: колонки, которые не должны попадать в признаки (ID, даты, тексты и т.п.)\n",
    "- `TEST_SIZE`: доля теста\n"
   ]
  },
  {
   "cell_type": "code",
   "execution_count": 2,
   "id": "90df41f4",
   "metadata": {},
   "outputs": [
    {
     "name": "stdout",
     "output_type": "stream",
     "text": [
      "CSV_PATH: /Users/uvauchok/uvauchok-projects/learning/learn-examples/learning-ml/Hyderabad.csv\n",
      "TARGET_COLUMN: Price\n"
     ]
    }
   ],
   "source": [
    "\n",
    "# === Настройки для твоего проекта ===\n",
    "CSV_PATH = \"/Users/uvauchok/uvauchok-projects/learning/learn-examples/learning-ml/Hyderabad.csv\"   # ← ЗАМЕНИ на свой путь, например \"/Users/you/data/train.csv\"\n",
    "TARGET_COLUMN = \"Price\"              # ← ЗАМЕНИ на имя целевой колонки\n",
    "DROP_COLUMNS = []                     # например: [\"id\", \"timestamp\"]\n",
    "TEST_SIZE = 0.2                       # 20% на тест\n",
    "RANDOM_STATE = 42\n",
    "\n",
    "# Быстрая проверка\n",
    "print(\"CSV_PATH:\", CSV_PATH)\n",
    "print(\"TARGET_COLUMN:\", TARGET_COLUMN)\n"
   ]
  },
  {
   "cell_type": "markdown",
   "id": "29f76de0",
   "metadata": {},
   "source": [
    "\n",
    "## 🗂️ Загрузка данных\n",
    "`low_memory=False` улучшает чтение смешанных типов. После загрузки посмотрим размер, первые строки и типы.\n"
   ]
  },
  {
   "cell_type": "code",
   "execution_count": 3,
   "id": "5625e545",
   "metadata": {},
   "outputs": [
    {
     "name": "stdout",
     "output_type": "stream",
     "text": [
      "Размер датасета: (2518, 40)\n"
     ]
    },
    {
     "data": {
      "text/html": [
       "<div>\n",
       "<style scoped>\n",
       "    .dataframe tbody tr th:only-of-type {\n",
       "        vertical-align: middle;\n",
       "    }\n",
       "\n",
       "    .dataframe tbody tr th {\n",
       "        vertical-align: top;\n",
       "    }\n",
       "\n",
       "    .dataframe thead th {\n",
       "        text-align: right;\n",
       "    }\n",
       "</style>\n",
       "<table border=\"1\" class=\"dataframe\">\n",
       "  <thead>\n",
       "    <tr style=\"text-align: right;\">\n",
       "      <th></th>\n",
       "      <th>Price</th>\n",
       "      <th>Area</th>\n",
       "      <th>Location</th>\n",
       "      <th>No. of Bedrooms</th>\n",
       "      <th>Resale</th>\n",
       "      <th>MaintenanceStaff</th>\n",
       "      <th>Gymnasium</th>\n",
       "      <th>SwimmingPool</th>\n",
       "      <th>LandscapedGardens</th>\n",
       "      <th>JoggingTrack</th>\n",
       "      <th>...</th>\n",
       "      <th>LiftAvailable</th>\n",
       "      <th>BED</th>\n",
       "      <th>VaastuCompliant</th>\n",
       "      <th>Microwave</th>\n",
       "      <th>GolfCourse</th>\n",
       "      <th>TV</th>\n",
       "      <th>DiningTable</th>\n",
       "      <th>Sofa</th>\n",
       "      <th>Wardrobe</th>\n",
       "      <th>Refrigerator</th>\n",
       "    </tr>\n",
       "  </thead>\n",
       "  <tbody>\n",
       "    <tr>\n",
       "      <th>0</th>\n",
       "      <td>6968000</td>\n",
       "      <td>1340</td>\n",
       "      <td>Nizampet</td>\n",
       "      <td>2</td>\n",
       "      <td>0</td>\n",
       "      <td>0</td>\n",
       "      <td>1</td>\n",
       "      <td>1</td>\n",
       "      <td>1</td>\n",
       "      <td>1</td>\n",
       "      <td>...</td>\n",
       "      <td>1</td>\n",
       "      <td>0</td>\n",
       "      <td>1</td>\n",
       "      <td>0</td>\n",
       "      <td>0</td>\n",
       "      <td>0</td>\n",
       "      <td>0</td>\n",
       "      <td>0</td>\n",
       "      <td>0</td>\n",
       "      <td>0</td>\n",
       "    </tr>\n",
       "    <tr>\n",
       "      <th>1</th>\n",
       "      <td>29000000</td>\n",
       "      <td>3498</td>\n",
       "      <td>Hitech City</td>\n",
       "      <td>4</td>\n",
       "      <td>0</td>\n",
       "      <td>0</td>\n",
       "      <td>1</td>\n",
       "      <td>1</td>\n",
       "      <td>1</td>\n",
       "      <td>1</td>\n",
       "      <td>...</td>\n",
       "      <td>1</td>\n",
       "      <td>0</td>\n",
       "      <td>1</td>\n",
       "      <td>0</td>\n",
       "      <td>0</td>\n",
       "      <td>0</td>\n",
       "      <td>0</td>\n",
       "      <td>0</td>\n",
       "      <td>0</td>\n",
       "      <td>0</td>\n",
       "    </tr>\n",
       "    <tr>\n",
       "      <th>2</th>\n",
       "      <td>6590000</td>\n",
       "      <td>1318</td>\n",
       "      <td>Manikonda</td>\n",
       "      <td>2</td>\n",
       "      <td>0</td>\n",
       "      <td>0</td>\n",
       "      <td>1</td>\n",
       "      <td>0</td>\n",
       "      <td>0</td>\n",
       "      <td>0</td>\n",
       "      <td>...</td>\n",
       "      <td>0</td>\n",
       "      <td>0</td>\n",
       "      <td>0</td>\n",
       "      <td>0</td>\n",
       "      <td>0</td>\n",
       "      <td>0</td>\n",
       "      <td>0</td>\n",
       "      <td>0</td>\n",
       "      <td>0</td>\n",
       "      <td>0</td>\n",
       "    </tr>\n",
       "    <tr>\n",
       "      <th>3</th>\n",
       "      <td>5739000</td>\n",
       "      <td>1295</td>\n",
       "      <td>Alwal</td>\n",
       "      <td>3</td>\n",
       "      <td>1</td>\n",
       "      <td>0</td>\n",
       "      <td>0</td>\n",
       "      <td>0</td>\n",
       "      <td>0</td>\n",
       "      <td>0</td>\n",
       "      <td>...</td>\n",
       "      <td>1</td>\n",
       "      <td>0</td>\n",
       "      <td>0</td>\n",
       "      <td>0</td>\n",
       "      <td>0</td>\n",
       "      <td>0</td>\n",
       "      <td>0</td>\n",
       "      <td>0</td>\n",
       "      <td>0</td>\n",
       "      <td>0</td>\n",
       "    </tr>\n",
       "    <tr>\n",
       "      <th>4</th>\n",
       "      <td>5679000</td>\n",
       "      <td>1145</td>\n",
       "      <td>Kukatpally</td>\n",
       "      <td>2</td>\n",
       "      <td>0</td>\n",
       "      <td>0</td>\n",
       "      <td>0</td>\n",
       "      <td>0</td>\n",
       "      <td>1</td>\n",
       "      <td>0</td>\n",
       "      <td>...</td>\n",
       "      <td>1</td>\n",
       "      <td>0</td>\n",
       "      <td>0</td>\n",
       "      <td>0</td>\n",
       "      <td>0</td>\n",
       "      <td>0</td>\n",
       "      <td>0</td>\n",
       "      <td>0</td>\n",
       "      <td>0</td>\n",
       "      <td>0</td>\n",
       "    </tr>\n",
       "  </tbody>\n",
       "</table>\n",
       "<p>5 rows × 40 columns</p>\n",
       "</div>"
      ],
      "text/plain": [
       "      Price  Area     Location  No. of Bedrooms  Resale  MaintenanceStaff  \\\n",
       "0   6968000  1340     Nizampet                2       0                 0   \n",
       "1  29000000  3498  Hitech City                4       0                 0   \n",
       "2   6590000  1318    Manikonda                2       0                 0   \n",
       "3   5739000  1295        Alwal                3       1                 0   \n",
       "4   5679000  1145   Kukatpally                2       0                 0   \n",
       "\n",
       "   Gymnasium  SwimmingPool  LandscapedGardens  JoggingTrack  ...  \\\n",
       "0          1             1                  1             1  ...   \n",
       "1          1             1                  1             1  ...   \n",
       "2          1             0                  0             0  ...   \n",
       "3          0             0                  0             0  ...   \n",
       "4          0             0                  1             0  ...   \n",
       "\n",
       "   LiftAvailable  BED  VaastuCompliant  Microwave  GolfCourse  TV  \\\n",
       "0              1    0                1          0           0   0   \n",
       "1              1    0                1          0           0   0   \n",
       "2              0    0                0          0           0   0   \n",
       "3              1    0                0          0           0   0   \n",
       "4              1    0                0          0           0   0   \n",
       "\n",
       "   DiningTable  Sofa  Wardrobe  Refrigerator  \n",
       "0            0     0         0             0  \n",
       "1            0     0         0             0  \n",
       "2            0     0         0             0  \n",
       "3            0     0         0             0  \n",
       "4            0     0         0             0  \n",
       "\n",
       "[5 rows x 40 columns]"
      ]
     },
     "metadata": {},
     "output_type": "display_data"
    },
    {
     "name": "stdout",
     "output_type": "stream",
     "text": [
      "\n",
      "Информация о столбцах:\n",
      "<class 'pandas.core.frame.DataFrame'>\n",
      "RangeIndex: 2518 entries, 0 to 2517\n",
      "Data columns (total 40 columns):\n",
      " #   Column               Non-Null Count  Dtype \n",
      "---  ------               --------------  ----- \n",
      " 0   Price                2518 non-null   int64 \n",
      " 1   Area                 2518 non-null   int64 \n",
      " 2   Location             2518 non-null   object\n",
      " 3   No. of Bedrooms      2518 non-null   int64 \n",
      " 4   Resale               2518 non-null   int64 \n",
      " 5   MaintenanceStaff     2518 non-null   int64 \n",
      " 6   Gymnasium            2518 non-null   int64 \n",
      " 7   SwimmingPool         2518 non-null   int64 \n",
      " 8   LandscapedGardens    2518 non-null   int64 \n",
      " 9   JoggingTrack         2518 non-null   int64 \n",
      " 10  RainWaterHarvesting  2518 non-null   int64 \n",
      " 11  IndoorGames          2518 non-null   int64 \n",
      " 12  ShoppingMall         2518 non-null   int64 \n",
      " 13  Intercom             2518 non-null   int64 \n",
      " 14  SportsFacility       2518 non-null   int64 \n",
      " 15  ATM                  2518 non-null   int64 \n",
      " 16  ClubHouse            2518 non-null   int64 \n",
      " 17  School               2518 non-null   int64 \n",
      " 18  24X7Security         2518 non-null   int64 \n",
      " 19  PowerBackup          2518 non-null   int64 \n",
      " 20  CarParking           2518 non-null   int64 \n",
      " 21  StaffQuarter         2518 non-null   int64 \n",
      " 22  Cafeteria            2518 non-null   int64 \n",
      " 23  MultipurposeRoom     2518 non-null   int64 \n",
      " 24  Hospital             2518 non-null   int64 \n",
      " 25  WashingMachine       2518 non-null   int64 \n",
      " 26  Gasconnection        2518 non-null   int64 \n",
      " 27  AC                   2518 non-null   int64 \n",
      " 28  Wifi                 2518 non-null   int64 \n",
      " 29  Children'splayarea   2518 non-null   int64 \n",
      " 30  LiftAvailable        2518 non-null   int64 \n",
      " 31  BED                  2518 non-null   int64 \n",
      " 32  VaastuCompliant      2518 non-null   int64 \n",
      " 33  Microwave            2518 non-null   int64 \n",
      " 34  GolfCourse           2518 non-null   int64 \n",
      " 35  TV                   2518 non-null   int64 \n",
      " 36  DiningTable          2518 non-null   int64 \n",
      " 37  Sofa                 2518 non-null   int64 \n",
      " 38  Wardrobe             2518 non-null   int64 \n",
      " 39  Refrigerator         2518 non-null   int64 \n",
      "dtypes: int64(39), object(1)\n",
      "memory usage: 787.0+ KB\n"
     ]
    }
   ],
   "source": [
    "\n",
    "# Чтение CSV\n",
    "df = pd.read_csv(CSV_PATH, low_memory=False)\n",
    "\n",
    "print(\"Размер датасета:\", df.shape)\n",
    "display(df.head())\n",
    "\n",
    "print(\"\\nИнформация о столбцах:\")\n",
    "df.info()\n"
   ]
  },
  {
   "cell_type": "markdown",
   "id": "b7936498",
   "metadata": {},
   "source": [
    "\n",
    "## ✂️ Разделение на признаки и целевую, определение типов признаков\n",
    "Автоматически определим:\n",
    "- числовые признаки (`int`, `float`, `bool`)\n",
    "- категориальные (`object`, `category`)\n"
   ]
  },
  {
   "cell_type": "code",
   "execution_count": 4,
   "id": "4613b0f0",
   "metadata": {},
   "outputs": [
    {
     "name": "stdout",
     "output_type": "stream",
     "text": [
      "Числовых признаков: 38\n",
      "Категориальных признаков: 1\n",
      "\n",
      "Примеры числовых: ['Area', 'No. of Bedrooms', 'Resale', 'MaintenanceStaff', 'Gymnasium', 'SwimmingPool', 'LandscapedGardens', 'JoggingTrack', 'RainWaterHarvesting', 'IndoorGames']\n",
      "Примеры категориальных: ['Location']\n"
     ]
    }
   ],
   "source": [
    "\n",
    "assert TARGET_COLUMN in df.columns, f\"Колонки '{TARGET_COLUMN}' нет в CSV!\"\n",
    "\n",
    "# y — целевая переменная\n",
    "y = df[TARGET_COLUMN]\n",
    "\n",
    "# X — признаки (все колонки минус target и явно исключённые)\n",
    "cols_to_drop = [c for c in DROP_COLUMNS if c in df.columns]\n",
    "X = df.drop(columns=[TARGET_COLUMN] + cols_to_drop, errors=\"ignore\")\n",
    "\n",
    "# Определяем типы автоматически\n",
    "numeric_cols = X.select_dtypes(include=[\"number\", \"bool\"]).columns.tolist()\n",
    "categorical_cols = X.select_dtypes(include=[\"object\", \"category\"]).columns.tolist()\n",
    "\n",
    "print(f\"Числовых признаков: {len(numeric_cols)}\")\n",
    "print(f\"Категориальных признаков: {len(categorical_cols)}\")\n",
    "\n",
    "# Покажем примеры\n",
    "print(\"\\nПримеры числовых:\", numeric_cols[:10])\n",
    "print(\"Примеры категориальных:\", categorical_cols[:10])\n"
   ]
  },
  {
   "cell_type": "markdown",
   "id": "2ef8c685",
   "metadata": {},
   "source": [
    "\n",
    "## 🧼 Препроцессинг\n",
    "- Числовые: пропуски → медиана, затем стандартизация\n",
    "- Категориальные: пропуски → наиболее частое, затем One-Hot\n",
    "\n",
    "Сделаем так, чтобы на выходе был **плотный массив**, чтобы корректно извлечь имена признаков после One-Hot.\n"
   ]
  },
  {
   "cell_type": "code",
   "execution_count": 6,
   "id": "27722594",
   "metadata": {},
   "outputs": [],
   "source": [
    "\n",
    "# Один и тот же код будет работать со старыми/новыми версиями sklearn:\n",
    "ohe_kwargs = {\"handle_unknown\": \"ignore\"}\n",
    "try:\n",
    "    # Новые версии\n",
    "    ohe = OneHotEncoder(sparse_output=False, **ohe_kwargs)\n",
    "except TypeError:\n",
    "    # Старые версии\n",
    "    ohe = OneHotEncoder(sparse=False, **ohe_kwargs)\n",
    "\n",
    "numeric_transformer = Pipeline(steps=[\n",
    "    (\"imputer\", SimpleImputer(strategy=\"median\")),\n",
    "    (\"scaler\", StandardScaler())\n",
    "])\n",
    "\n",
    "categorical_transformer = Pipeline(steps=[\n",
    "    (\"imputer\", SimpleImputer(strategy=\"most_frequent\")),\n",
    "    (\"onehot\", ohe)\n",
    "])\n",
    "\n",
    "preprocessor = ColumnTransformer(\n",
    "    transformers=[\n",
    "        (\"num\", numeric_transformer, numeric_cols),\n",
    "        (\"cat\", categorical_transformer, categorical_cols)\n",
    "    ],\n",
    "    remainder=\"drop\"\n",
    ")\n"
   ]
  },
  {
   "cell_type": "markdown",
   "id": "b17f9f8f",
   "metadata": {},
   "source": [
    "\n",
    "## 🧪 Train/Test split и обучение модели\n",
    "Используем `Pipeline`: сначала препроцессинг, затем `LinearRegression`.\n"
   ]
  },
  {
   "cell_type": "code",
   "execution_count": 7,
   "id": "d2c1e5b6",
   "metadata": {},
   "outputs": [
    {
     "name": "stdout",
     "output_type": "stream",
     "text": [
      "R²  = 0.7652\n",
      "MAE = 2085315.6450\n",
      "RMSE= 3847241.4283\n"
     ]
    }
   ],
   "source": [
    "\n",
    "X_train, X_test, y_train, y_test = train_test_split(\n",
    "    X, y, test_size=TEST_SIZE, random_state=RANDOM_STATE\n",
    ")\n",
    "\n",
    "model = LinearRegression()\n",
    "pipe = Pipeline(steps=[(\"preprocess\", preprocessor),\n",
    "                      (\"model\", model)])\n",
    "\n",
    "pipe.fit(X_train, y_train)\n",
    "\n",
    "y_pred = pipe.predict(X_test)\n",
    "\n",
    "r2  = r2_score(y_test, y_pred)\n",
    "mae = mean_absolute_error(y_test, y_pred)\n",
    "mse = mean_squared_error(y_test, y_pred)\n",
    "rmse = np.sqrt(mse)\n",
    "\n",
    "print(f\"R²  = {r2:.4f}\")\n",
    "print(f\"MAE = {mae:.4f}\")\n",
    "print(f\"RMSE= {rmse:.4f}\")\n"
   ]
  },
  {
   "cell_type": "markdown",
   "id": "9733eee1",
   "metadata": {},
   "source": [
    "\n",
    "## 📈 Визуализация качества\n",
    "- Предсказания vs Факты\n",
    "- Гистограмма остатков\n"
   ]
  },
  {
   "cell_type": "code",
   "execution_count": 8,
   "id": "dc24ce65",
   "metadata": {},
   "outputs": [
    {
     "data": {
      "image/png": "[encoded data removed]",
      "text/plain": [
       "<Figure size 640x480 with 1 Axes>"
      ]
     },
     "metadata": {},
     "output_type": "display_data"
    },
    {
     "data": {
      "image/png": "[encoded data removed]",
      "text/plain": [
       "<Figure size 640x480 with 1 Axes>"
      ]
     },
     "metadata": {},
     "output_type": "display_data"
    }
   ],
   "source": [
    "\n",
    "# Предсказанное vs Истинное\n",
    "plt.figure()\n",
    "plt.scatter(y_test, y_pred)\n",
    "plt.xlabel(\"Истинное значение\")\n",
    "plt.ylabel(\"Предсказанное значение\")\n",
    "plt.title(\"Predicted vs True\")\n",
    "plt.show()\n",
    "\n",
    "# Остатки\n",
    "residuals = y_test - y_pred\n",
    "plt.figure()\n",
    "plt.hist(residuals, bins=30)\n",
    "plt.xlabel(\"Остаток (y_true - y_pred)\")\n",
    "plt.ylabel(\"Частота\")\n",
    "plt.title(\"Распределение остатков\")\n",
    "plt.show()\n"
   ]
  },
  {
   "cell_type": "markdown",
   "id": "7e4516e8",
   "metadata": {},
   "source": [
    "\n",
    "## 🔍 Коэффициенты признаков\n",
    "Для линейной регрессии важно понимать вклад каждого признака. Получим имена **после** One-Hot и вытащим коэффициенты.\n"
   ]
  },
  {
   "cell_type": "code",
   "execution_count": 10,
   "id": "a6e8b055",
   "metadata": {},
   "outputs": [
    {
     "name": "stdout",
     "output_type": "stream",
     "text": [
      "Intercept: 9476729.824640894\n"
     ]
    },
    {
     "data": {
      "text/html": [
       "<div>\n",
       "<style scoped>\n",
       "    .dataframe tbody tr th:only-of-type {\n",
       "        vertical-align: middle;\n",
       "    }\n",
       "\n",
       "    .dataframe tbody tr th {\n",
       "        vertical-align: top;\n",
       "    }\n",
       "\n",
       "    .dataframe thead th {\n",
       "        text-align: right;\n",
       "    }\n",
       "</style>\n",
       "<table border=\"1\" class=\"dataframe\">\n",
       "  <thead>\n",
       "    <tr style=\"text-align: right;\">\n",
       "      <th></th>\n",
       "      <th>feature</th>\n",
       "      <th>coefficient</th>\n",
       "    </tr>\n",
       "  </thead>\n",
       "  <tbody>\n",
       "    <tr>\n",
       "      <th>40</th>\n",
       "      <td>Location_Abids</td>\n",
       "      <td>1.767061e+07</td>\n",
       "    </tr>\n",
       "    <tr>\n",
       "      <th>77</th>\n",
       "      <td>Location_Boiguda</td>\n",
       "      <td>1.625375e+07</td>\n",
       "    </tr>\n",
       "    <tr>\n",
       "      <th>217</th>\n",
       "      <td>Location_Sangeet Nagar</td>\n",
       "      <td>-1.411550e+07</td>\n",
       "    </tr>\n",
       "    <tr>\n",
       "      <th>230</th>\n",
       "      <td>Location_Sun City</td>\n",
       "      <td>1.207748e+07</td>\n",
       "    </tr>\n",
       "    <tr>\n",
       "      <th>126</th>\n",
       "      <td>Location_Janachaitanya Colony</td>\n",
       "      <td>1.112186e+07</td>\n",
       "    </tr>\n",
       "    <tr>\n",
       "      <th>104</th>\n",
       "      <td>Location_Film Nagar</td>\n",
       "      <td>1.088316e+07</td>\n",
       "    </tr>\n",
       "    <tr>\n",
       "      <th>215</th>\n",
       "      <td>Location_Saket</td>\n",
       "      <td>1.056585e+07</td>\n",
       "    </tr>\n",
       "    <tr>\n",
       "      <th>69</th>\n",
       "      <td>Location_Banjara Hills</td>\n",
       "      <td>8.907213e+06</td>\n",
       "    </tr>\n",
       "    <tr>\n",
       "      <th>127</th>\n",
       "      <td>Location_Jubilee Hills</td>\n",
       "      <td>8.375794e+06</td>\n",
       "    </tr>\n",
       "    <tr>\n",
       "      <th>201</th>\n",
       "      <td>Location_Pocharam</td>\n",
       "      <td>-8.250182e+06</td>\n",
       "    </tr>\n",
       "    <tr>\n",
       "      <th>70</th>\n",
       "      <td>Location_Banjara Hills Road Number 12</td>\n",
       "      <td>8.185232e+06</td>\n",
       "    </tr>\n",
       "    <tr>\n",
       "      <th>0</th>\n",
       "      <td>Area</td>\n",
       "      <td>6.986528e+06</td>\n",
       "    </tr>\n",
       "    <tr>\n",
       "      <th>195</th>\n",
       "      <td>Location_Paradise Circle</td>\n",
       "      <td>-6.425764e+06</td>\n",
       "    </tr>\n",
       "    <tr>\n",
       "      <th>15</th>\n",
       "      <td>School</td>\n",
       "      <td>-6.399337e+06</td>\n",
       "    </tr>\n",
       "    <tr>\n",
       "      <th>220</th>\n",
       "      <td>Location_Secunderabad Railway Station Road</td>\n",
       "      <td>-6.398608e+06</td>\n",
       "    </tr>\n",
       "    <tr>\n",
       "      <th>227</th>\n",
       "      <td>Location_Sri Nagar Colony</td>\n",
       "      <td>6.319011e+06</td>\n",
       "    </tr>\n",
       "    <tr>\n",
       "      <th>225</th>\n",
       "      <td>Location_Sikh Village</td>\n",
       "      <td>-6.212405e+06</td>\n",
       "    </tr>\n",
       "    <tr>\n",
       "      <th>249</th>\n",
       "      <td>Location_Whitefields</td>\n",
       "      <td>6.176727e+06</td>\n",
       "    </tr>\n",
       "    <tr>\n",
       "      <th>200</th>\n",
       "      <td>Location_Picket</td>\n",
       "      <td>-5.479675e+06</td>\n",
       "    </tr>\n",
       "    <tr>\n",
       "      <th>29</th>\n",
       "      <td>BED</td>\n",
       "      <td>5.317581e+06</td>\n",
       "    </tr>\n",
       "  </tbody>\n",
       "</table>\n",
       "</div>"
      ],
      "text/plain": [
       "                                        feature   coefficient\n",
       "40                               Location_Abids  1.767061e+07\n",
       "77                             Location_Boiguda  1.625375e+07\n",
       "217                      Location_Sangeet Nagar -1.411550e+07\n",
       "230                           Location_Sun City  1.207748e+07\n",
       "126               Location_Janachaitanya Colony  1.112186e+07\n",
       "104                         Location_Film Nagar  1.088316e+07\n",
       "215                              Location_Saket  1.056585e+07\n",
       "69                       Location_Banjara Hills  8.907213e+06\n",
       "127                      Location_Jubilee Hills  8.375794e+06\n",
       "201                           Location_Pocharam -8.250182e+06\n",
       "70        Location_Banjara Hills Road Number 12  8.185232e+06\n",
       "0                                          Area  6.986528e+06\n",
       "195                    Location_Paradise Circle -6.425764e+06\n",
       "15                                       School -6.399337e+06\n",
       "220  Location_Secunderabad Railway Station Road -6.398608e+06\n",
       "227                   Location_Sri Nagar Colony  6.319011e+06\n",
       "225                       Location_Sikh Village -6.212405e+06\n",
       "249                        Location_Whitefields  6.176727e+06\n",
       "200                             Location_Picket -5.479675e+06\n",
       "29                                          BED  5.317581e+06"
      ]
     },
     "metadata": {},
     "output_type": "display_data"
    },
    {
     "name": "stdout",
     "output_type": "stream",
     "text": [
      "Файл коэффициентов сохранён как 'linear_regression_coefficients.csv'\n"
     ]
    }
   ],
   "source": [
    "\n",
    "# Функция для извлечения имён признаков после препроцессинга\n",
    "def get_feature_names(preprocessor):\n",
    "    feature_names = []\n",
    "    # Числовые имена — как есть\n",
    "    num_features = preprocessor.named_transformers_[\"num\"].named_steps[\"imputer\"].feature_names_in_\n",
    "    feature_names.extend(num_features)\n",
    "\n",
    "    # Категориальные имена — после OneHotEncoder\n",
    "    if len(categorical_cols) > 0:\n",
    "        ohe_step = preprocessor.named_transformers_[\"cat\"].named_steps[\"onehot\"]\n",
    "        try:\n",
    "            cat_features = ohe_step.get_feature_names_out(categorical_cols)\n",
    "        except Exception:\n",
    "            # Старые версии sklearn\n",
    "            cat_features = ohe_step.get_feature_names(categorical_cols)\n",
    "        feature_names.extend(list(cat_features))\n",
    "\n",
    "    return feature_names\n",
    "\n",
    "# Извлекаем имена и коэффициенты\n",
    "pre = pipe.named_steps[\"preprocess\"]\n",
    "lin = pipe.named_steps[\"model\"]\n",
    "feature_names = get_feature_names(pre)\n",
    "\n",
    "coef = getattr(lin, \"coef_\", None)\n",
    "intercept = getattr(lin, \"intercept_\", None)\n",
    "\n",
    "coef_df = pd.DataFrame({\n",
    "    \"feature\": feature_names,\n",
    "    \"coefficient\": coef.flatten() if coef.ndim > 1 else coef\n",
    "}).sort_values(by=\"coefficient\", key=lambda s: s.abs(), ascending=False)\n",
    "\n",
    "print(\"Intercept:\", intercept)\n",
    "display(coef_df.head(20))\n",
    "\n",
    "# Сохраним на диск (удобно для анализа в Excel)\n",
    "coef_df.to_csv(\"linear_regression_coefficients.csv\", index=False)\n",
    "print(\"Файл коэффициентов сохранён как 'linear_regression_coefficients.csv'\")\n"
   ]
  },
  {
   "cell_type": "code",
   "execution_count": 12,
   "id": "2bfa7c48-6b57-437a-b17f-66fa687cf69c",
   "metadata": {},
   "outputs": [
    {
     "data": {
      "image/png": "[encoded data removed]",
      "text/plain": [
       "<Figure size 640x480 with 1 Axes>"
      ]
     },
     "metadata": {},
     "output_type": "display_data"
    }
   ],
   "source": [
    "import seaborn as sns\n",
    "import matplotlib.pyplot as plt\n",
    "\n",
    "sns.scatterplot(x=df[\"School\"], y=df[\"Price\"])\n",
    "plt.xlabel(\"Количество школ\")\n",
    "plt.ylabel(\"Цена\")\n",
    "plt.show()"
   ]
  },
  {
   "cell_type": "markdown",
   "id": "87ce6e0c",
   "metadata": {},
   "source": [
    "\n",
    "## 🔁 Кросс-валидация (опционально)\n",
    "Быстрая оценка устойчивости: 5-кратная кросс-валидация по R².\n"
   ]
  },
  {
   "cell_type": "code",
   "execution_count": 13,
   "id": "23c8235b",
   "metadata": {},
   "outputs": [
    {
     "name": "stdout",
     "output_type": "stream",
     "text": [
      "CV R² mean: 0.7398619441233153 ± 0.15450644558569032\n"
     ]
    }
   ],
   "source": [
    "\n",
    "cv = KFold(n_splits=5, shuffle=True, random_state=RANDOM_STATE)\n",
    "scores = cross_val_score(pipe, X, y, scoring=\"r2\", cv=cv, n_jobs=None)\n",
    "print(\"CV R² mean:\", scores.mean(), \"±\", scores.std())\n"
   ]
  },
  {
   "cell_type": "markdown",
   "id": "8a893861",
   "metadata": {},
   "source": [
    "\n",
    "## 💾 Сохранение и загрузка модели\n",
    "Сохраним весь пайплайн (препроцессинг + модель) в один файл. Потом можно загрузить и сразу использовать `predict`.\n"
   ]
  },
  {
   "cell_type": "code",
   "execution_count": 14,
   "id": "f51b4d6a",
   "metadata": {},
   "outputs": [
    {
     "name": "stdout",
     "output_type": "stream",
     "text": [
      "Пайплайн сохранён как 'linear_regression_pipeline.joblib'\n"
     ]
    }
   ],
   "source": [
    "\n",
    "joblib.dump(pipe, \"linear_regression_pipeline.joblib\")\n",
    "print(\"Пайплайн сохранён как 'linear_regression_pipeline.joblib'\")\n",
    "\n",
    "# Пример загрузки:\n",
    "# loaded = joblib.load(\"linear_regression_pipeline.joblib\")\n",
    "# preds = loaded.predict(X_test)\n"
   ]
  },
  {
   "cell_type": "markdown",
   "id": "f2fab004",
   "metadata": {},
   "source": [
    "\n",
    "## 🔮 Предсказание на новых данных\n",
    "Важно передавать **те же имена колонок**, что были в `X` при обучении. Пример ниже показывает, как предсказать на одной строке.\n"
   ]
  },
  {
   "cell_type": "code",
   "execution_count": 15,
   "id": "2ab3b91b",
   "metadata": {},
   "outputs": [
    {
     "name": "stdout",
     "output_type": "stream",
     "text": [
      "Пример (неполный) словаря признаков: {'Area': 1500.0, 'Location': 'Kukatpally', 'No. of Bedrooms': 3.0, 'Resale': 0.0, 'MaintenanceStaff': 0.0}\n",
      "Предсказание для одной строки: 8440108.923208784\n"
     ]
    }
   ],
   "source": [
    "\n",
    "# Сбор \"одной новой строки\" для предсказания:\n",
    "# Пример: возьмём первые имена колонок X и зафейкуем значения.\n",
    "example = {}\n",
    "\n",
    "for col in X.columns[:5]:  # только первые 5 колонок для короткого примера\n",
    "    if col in numeric_cols:\n",
    "        example[col] = float(df[col].median()) if pd.api.types.is_numeric_dtype(df[col]) else 0.0\n",
    "    else:\n",
    "        # Если категориальная — берём самое частое значение\n",
    "        example[col] = df[col].mode(dropna=True)[0] if not df[col].mode(dropna=True).empty else \"\"\n",
    "\n",
    "# Остальные нужные колонки тоже должны быть представлены!\n",
    "# В реальном коде — заполни все столбцы X.\n",
    "print(\"Пример (неполный) словаря признаков:\", example)\n",
    "\n",
    "# Для корректного предикта нужен полный набор колонок X.\n",
    "# В демонстрационных целях создадим строку с теми же колонками, но с заполнителями.\n",
    "row = {}\n",
    "for col in X.columns:\n",
    "    if col in example:\n",
    "        row[col] = example[col]\n",
    "    else:\n",
    "        # Умолчания: 0.0 для числовых, \"\" для категориальных\n",
    "        if col in numeric_cols:\n",
    "            row[col] = 0.0\n",
    "        else:\n",
    "            row[col] = \"\"\n",
    "\n",
    "new_X = pd.DataFrame([row], columns=X.columns)\n",
    "pred = pipe.predict(new_X)[0]\n",
    "print(\"Предсказание для одной строки:\", pred)\n"
   ]
  },
  {
   "cell_type": "code",
   "execution_count": 18,
   "id": "f1ab8efd-f5b4-481e-b1c7-3eb30177e087",
   "metadata": {},
   "outputs": [
    {
     "name": "stdout",
     "output_type": "stream",
     "text": [
      "Предсказание для Area=1000 и Bedrooms=3: 2787633.003183839\n"
     ]
    }
   ],
   "source": [
    "custom_input = {\n",
    "    \"Area\": 1000.0,\n",
    "    \"No. of Bedrooms\": 3.0\n",
    "}\n",
    "\n",
    "# формируем строку со всеми признаками X\n",
    "row = {}\n",
    "for col in X.columns:\n",
    "    if col in custom_input:\n",
    "        row[col] = custom_input[col]\n",
    "    else:\n",
    "        # заполняем умолчаниями\n",
    "        if col in numeric_cols:\n",
    "            row[col] = 0.0\n",
    "        else:\n",
    "            row[col] = \"\"\n",
    "\n",
    "# создаём DataFrame с одной строкой\n",
    "new_X = pd.DataFrame([row], columns=X.columns)\n",
    "\n",
    "# делаем предсказание\n",
    "pred = pipe.predict(new_X)[0]\n",
    "print(\"Предсказание для Area=1000 и Bedrooms=3:\", pred)"
   ]
  },
  {
   "cell_type": "markdown",
   "id": "307311f8",
   "metadata": {},
   "source": [
    "\n",
    "## 🧠 Советы для больших CSV\n",
    "- Если файл большой, сначала загрузи **часть колонок** через `usecols=[...]`.\n",
    "- Проблемы с памятью — можно перейти на `SGDRegressor` (стриминговая линейная модель) или использовать Dask/Modin.\n",
    "- Даты можно превратить в числовые признаки (год/месяц/день/час и т.п.).\n",
    "- Всегда фиксируй `random_state` для воспроизводимости.\n"
   ]
  }
 ],
 "metadata": {
  "kernelspec": {
   "display_name": "Python 3 (ipykernel)",
   "language": "python",
   "name": "python3"
  },
  "language_info": {
   "codemirror_mode": {
    "name": "ipython",
    "version": 3
   },
   "file_extension": ".py",
   "mimetype": "text/x-python",
   "name": "python",
   "nbconvert_exporter": "python",
   "pygments_lexer": "ipython3",
   "version": "3.13.5"
  }
 },
 "nbformat": 4,
 "nbformat_minor": 5
}
